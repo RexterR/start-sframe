{
  "nbformat": 4,
  "nbformat_minor": 0,
  "metadata": {
    "colab": {
      "name": "sframe.ipynb",
      "provenance": [],
      "toc_visible": true,
      "authorship_tag": "ABX9TyMV2KWM4nNbHfcHGI/QEpGi",
      "include_colab_link": true
    },
    "kernelspec": {
      "name": "python3",
      "display_name": "Python 3"
    }
  },
  "cells": [
    {
      "cell_type": "markdown",
      "metadata": {
        "id": "view-in-github",
        "colab_type": "text"
      },
      "source": [
        "<a href=\"https://colab.research.google.com/github/RexterR/start-sframe/blob/master/sframe.ipynb\" target=\"_parent\"><img src=\"https://colab.research.google.com/assets/colab-badge.svg\" alt=\"Open In Colab\"/></a>"
      ]
    },
    {
      "cell_type": "markdown",
      "metadata": {
        "id": "IbhFngHU8jor",
        "colab_type": "text"
      },
      "source": [
        "## Printing Hello world\n",
        "* just for test\n"
      ]
    },
    {
      "cell_type": "code",
      "metadata": {
        "id": "_LhXpaJw8dJE",
        "colab_type": "code",
        "colab": {
          "base_uri": "https://localhost:8080/",
          "height": 34
        },
        "outputId": "1e406c61-5d2e-4b1d-ea9e-f626b209b94a"
      },
      "source": [
        "print('hello world')"
      ],
      "execution_count": 2,
      "outputs": [
        {
          "output_type": "stream",
          "text": [
            "hello world\n"
          ],
          "name": "stdout"
        }
      ]
    }
  ]
}